{
 "cells": [
  {
   "cell_type": "markdown",
   "id": "c6175159",
   "metadata": {},
   "source": [
    "# MeowLab\n",
    "\n",
    "> cat可能是你最常用的命令行工具之一，但是可能很少有人会关注cat的性能问题。\n",
    "> \n",
    "> 但实际上，cat可能比你想的更加高效。在这个lab中，我们会一起来探索cat如此高效的秘密。"
   ]
  },
  {
   "cell_type": "markdown",
   "id": "ef876965",
   "metadata": {},
   "source": [
    "## 什么是cat\n",
    "\n",
    "对于大部分同学来说，这个问题有些太trivial了。但是以防万一，还是在这里介绍一下，cat是一个GNU coreutils中的一个程序，它的作用是连接(con**cat**enate)一系列文件，并将其输出到标准输出流(stdout)中。\n",
    "\n",
    "> 如果你愿意去找，你会发现这个lab中所有的代码都可以在GNU coreutils中找到，或者你用某个大模型，它可能也能写得不错。\n",
    "> 但是，除了写代码以外，这个lab中也会包含一些分析和讨论。因此即使你选择直接去抄GNU coreutils中的代码，也不要直接不加思考的复制粘贴。"
   ]
  },
  {
   "cell_type": "markdown",
   "id": "be33179e",
   "metadata": {},
   "source": [
    "## 环境要求\n",
    "\n",
    "* 操作系统：Linux（任何包含GNU coreutils的发行版）\n",
    "* 编译器：本lab允许使用C/C++或者Rust，选择你喜欢的任何编译器即可。\n",
    "* Python3.x：本lab一些地方需要你画图，推荐你使用matplotlib。另外，我们使用一个简单的脚本来生成测试文件。"
   ]
  },
  {
   "cell_type": "markdown",
   "id": "c6d3e510",
   "metadata": {},
   "source": [
    "## 在开始之前\n",
    "\n",
    "这个项目的所有代码需要你自己动手来写，我们只提供了一个用于生成测试文件的脚本。\n",
    "\n",
    "为了展示比较明显的测试效果，我们会生成一个2GB的测试文件，请确保你的磁盘拥有足够的空间。你可以运行下面这个单元格来查看你的电脑是否有足够的空间。这里我们使用了`df`命令，这个命令的作用是查看某个文件系统所在的磁盘的使用量。"
   ]
  },
  {
   "cell_type": "code",
   "execution_count": 1,
   "id": "14021422",
   "metadata": {},
   "outputs": [
    {
     "name": "stderr",
     "output_type": "stream",
     "text": [
      "\u0000/e\u0001c\u0000:\u0000 \u0000�hKm0R \u0000l\u0000o\u0000c\u0000a\u0000l\u0000h\u0000o\u0000s\u0000t\u0000 \u0000�N\u0006tM�n\f�FO*g\\��P0R \u0000W\u0000S\u0000L\u0000\u00020N\u0000A\u0000T\u0000 \u0000!j\u000f_\u000bN�v \u0000W\u0000S\u0000L\u0000 \u0000 \u0000l\u0000o\u0000c\u0000a\u0000l\u0000h\u0000o\u0000s\u0000t\u0000 \u0000�N\u0006t\u00020\n",
      "\u0000"
     ]
    },
    {
     "name": "stdout",
     "output_type": "stream",
     "text": [
      "Filesystem      Size  Used Avail Use% Mounted on\n",
      "/dev/sdd       1007G  9.4G  947G   1% /\n"
     ]
    },
    {
     "name": "stderr",
     "output_type": "stream",
     "text": [
      "-bash: line 10: bc: command not found\n"
     ]
    },
    {
     "name": "stdout",
     "output_type": "stream",
     "text": [
      "Disk space is sufficient: 947G\n"
     ]
    }
   ],
   "source": [
    "%%bash\n",
    "df -h /\n",
    "\n",
    "avail=$(df -h / | awk 'NR==2 {print $4}' | grep -o '[0-9.]*')\n",
    "unit=$(df -h / | awk 'NR==2 {print $4}' | grep -o '[a-zA-Z]*')\n",
    "if [[ \"$unit\" == \"M\" || \"$unit\" == \"K\" ]]; then\n",
    "    echo \"Disk space is low: $avail$unit\"\n",
    "elif [[ \"$unit\" == \"T\" ]]; then\n",
    "    echo \"Disk space is sufficient: $avail$unit\"\n",
    "elif [[ \"$unit\" == \"G\" ]]; then\n",
    "    if (( $(echo \"$avail < 10\" | bc -l) )); then\n",
    "        echo \"Disk space is low: $avail$unit\"\n",
    "    else\n",
    "        echo \"Disk space is sufficient: $avail$unit\"\n",
    "    fi\n",
    "else\n",
    "    echo \"Unknown unit: $unit\"\n",
    "fi\n"
   ]
  },
  {
   "cell_type": "markdown",
   "id": "64cc6804",
   "metadata": {},
   "source": [
    "你可以使用我们提供的python脚本来生成测试文件，运行下面的单元格。测试文件的生成可能会花费一定的时间。"
   ]
  },
  {
   "cell_type": "code",
   "execution_count": 2,
   "id": "8ead0359",
   "metadata": {},
   "outputs": [],
   "source": [
    "import random\n",
    "\n",
    "MB = 1024 * 1024\n",
    "\n",
    "# A static seed for reproducibility\n",
    "random.seed(42)\n",
    "\n",
    "with open(\"test.txt\", \"wb\") as f:\n",
    "    for _ in range(2048):\n",
    "        f.write(random.randbytes(1 * MB)) # 1MB of random data"
   ]
  },
  {
   "cell_type": "markdown",
   "id": "a0017028",
   "metadata": {},
   "source": [
    "当前文件夹下面会出现一个大小为2GB的文件`test.txt`。你可以运行下面的单元格来验证。"
   ]
  },
  {
   "cell_type": "code",
   "execution_count": 3,
   "id": "a4bd4bd0",
   "metadata": {},
   "outputs": [
    {
     "name": "stderr",
     "output_type": "stream",
     "text": [
      "\u0000/e\u0001c\u0000:\u0000 \u0000�hKm0R \u0000l\u0000o\u0000c\u0000a\u0000l\u0000h\u0000o\u0000s\u0000t\u0000 \u0000�N\u0006tM�n\f�FO*g\\��P0R \u0000W\u0000S\u0000L\u0000\u00020N\u0000A\u0000T\u0000 \u0000!j\u000f_\u000bN�v \u0000W\u0000S\u0000L\u0000 \u0000 \u0000l\u0000o\u0000c\u0000a\u0000l\u0000h\u0000o\u0000s\u0000t\u0000 \u0000�N\u0006t\u00020\n",
      "\u0000"
     ]
    },
    {
     "name": "stdout",
     "output_type": "stream",
     "text": [
      "-rwxr-xr-x 1 root root 2.0G Jun 14 16:04 test.txt\n"
     ]
    }
   ],
   "source": [
    "%%bash\n",
    "ls -lh test.txt"
   ]
  },
  {
   "cell_type": "markdown",
   "id": "55fbac6a",
   "metadata": {},
   "source": [
    "最后，我们的lab会需要使用`hyperfine`来测量程序的运行时间。我们推荐你使用`cargo`进行安装。你可以从[Rust官网](https://www.rust-lang.org/zh-CN/learn/get-started)找到安装脚本。如果你的电脑已经安装好了`cargo`，你可以运行下面的单元格来安装`hyperfine`。"
   ]
  },
  {
   "cell_type": "code",
   "execution_count": 5,
   "id": "77f0165a",
   "metadata": {},
   "outputs": [
    {
     "name": "stderr",
     "output_type": "stream",
     "text": [
      "\u0000/e\u0001c\u0000:\u0000 \u0000�hKm0R \u0000l\u0000o\u0000c\u0000a\u0000l\u0000h\u0000o\u0000s\u0000t\u0000 \u0000�N\u0006tM�n\f�FO*g\\��P0R \u0000W\u0000S\u0000L\u0000\u00020N\u0000A\u0000T\u0000 \u0000!j\u000f_\u000bN�v \u0000W\u0000S\u0000L\u0000 \u0000 \u0000l\u0000o\u0000c\u0000a\u0000l\u0000h\u0000o\u0000s\u0000t\u0000 \u0000�N\u0006t\u00020\n",
      "\u0000    Updating crates.io index\n",
      " Downloading crates ...\n",
      "  Downloaded hyperfine v1.19.0\n",
      "  Installing hyperfine v1.19.0\n",
      "    Updating crates.io index\n",
      "     Locking 137 packages to latest compatible versions\n",
      "      Adding colored v2.2.0 (available: v3.0.0)\n",
      "      Adding indicatif v0.17.4 (available: v0.17.11)\n",
      "      Adding nix v0.29.0 (available: v0.30.1)\n",
      "      Adding rand v0.8.5 (available: v0.9.1)\n",
      "      Adding windows-sys v0.59.0 (available: v0.60.2)\n",
      " Downloading crates ...\n",
      "  Downloaded autocfg v0.1.8\n",
      "  Downloaded equivalent v1.0.2\n",
      "  Downloaded bytecheck_derive v0.6.12\n",
      "  Downloaded version_check v0.9.5\n",
      "  Downloaded utf8parse v0.2.2\n",
      "  Downloaded num-iter v0.1.45\n",
      "  Downloaded number_prefix v0.4.0\n",
      "  Downloaded statistical v1.0.0\n",
      "  Downloaded ptr_meta v0.1.4\n",
      "  Downloaded wyz v0.5.1\n",
      "  Downloaded ptr_meta_derive v0.1.4\n",
      "  Downloaded tinyvec_macros v0.1.1\n",
      "  Downloaded rand_core v0.3.1\n",
      "  Downloaded cfg_aliases v0.2.1\n",
      "  Downloaded funty v2.0.0\n",
      "  Downloaded errno v0.3.12\n",
      "  Downloaded bytecheck v0.6.12\n",
      "  Downloaded cfg-if v1.0.1\n",
      "  Downloaded anstyle-query v1.1.3\n",
      "  Downloaded autocfg v1.4.0\n",
      "  Downloaded clap_lex v0.7.5\n",
      "  Downloaded itoa v1.0.15\n",
      "  Downloaded uuid v1.17.0\n",
      "  Downloaded rand_chacha v0.1.1\n",
      "  Downloaded num-integer v0.1.46\n",
      "  Downloaded rand_chacha v0.3.1\n",
      "  Downloaded terminal_size v0.4.2\n",
      "  Downloaded rand_isaac v0.1.1\n",
      "  Downloaded radium v0.7.0\n",
      "  Downloaded shell-words v1.1.0\n",
      "  Downloaded rend v0.4.2\n",
      "  Downloaded rand_hc v0.1.0\n",
      "  Downloaded num-rational v0.2.4\n",
      "  Downloaded strsim v0.11.1\n",
      "  Downloaded ppv-lite86 v0.2.21\n",
      "  Downloaded tap v1.0.1\n",
      "  Downloaded rand_pcg v0.1.2\n",
      "  Downloaded proc-macro-crate v3.3.0\n",
      "  Downloaded is_terminal_polyfill v1.70.1\n",
      "  Downloaded thiserror-impl v2.0.12\n",
      "  Downloaded rand_xorshift v0.1.1\n",
      "  Downloaded rand_core v0.4.2\n",
      "  Downloaded num v0.2.1\n",
      "  Downloaded borsh-derive v1.5.7\n",
      "  Downloaded csv-core v0.1.12\n",
      "  Downloaded colorchoice v1.0.4\n",
      "  Downloaded arrayvec v0.7.6\n",
      "  Downloaded anstyle-parse v0.2.7\n",
      "  Downloaded anstyle v1.0.11\n",
      "  Downloaded clap_complete v4.5.54\n",
      "  Downloaded colored v2.2.0\n",
      "  Downloaded getrandom v0.2.16\n",
      "  Downloaded thiserror v2.0.12\n",
      "  Downloaded once_cell v1.21.3\n",
      "  Downloaded rkyv_derive v0.7.45\n",
      "  Downloaded num-complex v0.2.4\n",
      "  Downloaded lazy_static v1.5.0\n",
      "  Downloaded console v0.15.11\n",
      "  Downloaded anstream v0.6.19\n",
      "  Downloaded rand_jitter v0.1.4\n",
      "  Downloaded rand_core v0.6.4\n",
      "  Downloaded rand_os v0.1.3\n",
      "  Downloaded quote v1.0.40\n",
      "  Downloaded simdutf8 v0.1.5\n",
      "  Downloaded anyhow v1.0.98\n",
      "  Downloaded bitflags v2.9.1\n",
      "  Downloaded ahash v0.7.8\n",
      "  Downloaded unicode-ident v1.0.18\n",
      "  Downloaded seahash v4.1.0\n",
      "  Downloaded num-traits v0.2.19\n",
      "  Downloaded toml_datetime v0.6.11\n",
      "  Downloaded tinyvec v1.9.0\n",
      "  Downloaded ryu v1.0.20\n",
      "  Downloaded proc-macro2 v1.0.95\n",
      "  Downloaded clap v4.5.40\n",
      "  Downloaded indicatif v0.17.4\n",
      "  Downloaded serde_derive v1.0.219\n",
      "  Downloaded winnow v0.7.11\n",
      "  Downloaded bytes v1.10.1\n",
      "  Downloaded borsh v1.5.7\n",
      "  Downloaded rand v0.8.5\n",
      "  Downloaded zerocopy v0.8.25\n",
      "  Downloaded toml_edit v0.22.27\n",
      "  Downloaded num-bigint v0.2.6\n",
      "  Downloaded serde v1.0.219\n",
      "  Downloaded rand v0.6.5\n",
      "  Downloaded memchr v2.7.5\n",
      "  Downloaded hashbrown v0.12.3\n",
      "  Downloaded rkyv v0.7.45\n",
      "  Downloaded indexmap v2.9.0\n",
      "  Downloaded hashbrown v0.15.4\n",
      "  Downloaded rust_decimal v1.37.2\n",
      "  Downloaded clap_builder v4.5.40\n",
      "  Downloaded serde_json v1.0.140\n",
      "  Downloaded portable-atomic v1.11.1\n",
      "  Downloaded bitvec v1.0.1\n",
      "  Downloaded syn v1.0.109\n",
      "  Downloaded unicode-width v0.2.1\n",
      "  Downloaded unicode-width v0.1.14\n",
      "  Downloaded syn v2.0.103\n",
      "  Downloaded nix v0.29.0\n",
      "  Downloaded rustix v1.0.7\n",
      "  Downloaded libc v0.2.173\n",
      "  Downloaded csv v1.3.1\n",
      "  Downloaded linux-raw-sys v0.9.4\n",
      "   Compiling autocfg v1.4.0\n",
      "   Compiling rustix v1.0.7\n",
      "   Compiling libc v0.2.173\n",
      "   Compiling proc-macro2 v1.0.95\n",
      "   Compiling rand_core v0.4.2\n",
      "   Compiling unicode-ident v1.0.18\n",
      "   Compiling linux-raw-sys v0.9.4\n",
      "   Compiling utf8parse v0.2.2\n",
      "   Compiling bitflags v2.9.1\n",
      "   Compiling anstyle v1.0.11\n",
      "   Compiling colorchoice v1.0.4\n",
      "   Compiling anstyle-query v1.1.3\n",
      "   Compiling is_terminal_polyfill v1.70.1\n",
      "   Compiling cfg-if v1.0.1\n",
      "   Compiling clap_lex v0.7.5\n",
      "   Compiling serde v1.0.219\n",
      "   Compiling zerocopy v0.8.25\n",
      "   Compiling strsim v0.11.1\n",
      "   Compiling anstyle-parse v0.2.7\n",
      "   Compiling portable-atomic v1.11.1\n",
      "   Compiling cfg_aliases v0.2.1\n",
      "   Compiling rand_core v0.3.1\n",
      "   Compiling memchr v2.7.5\n",
      "   Compiling anstream v0.6.19\n",
      "   Compiling rand_hc v0.1.0\n",
      "   Compiling rand_xorshift v0.1.1\n",
      "   Compiling autocfg v0.1.8\n",
      "   Compiling rand_isaac v0.1.1\n",
      "   Compiling nix v0.29.0\n",
      "   Compiling rand_jitter v0.1.4\n",
      "   Compiling once_cell v1.21.3\n",
      "   Compiling itoa v1.0.15\n",
      "   Compiling thiserror v2.0.12\n",
      "   Compiling anyhow v1.0.98\n",
      "   Compiling num-traits v0.2.19\n",
      "   Compiling num-bigint v0.2.6\n",
      "   Compiling rand_chacha v0.1.1\n",
      "   Compiling num-complex v0.2.4\n",
      "   Compiling num-rational v0.2.4\n",
      "   Compiling rand_pcg v0.1.2\n",
      "   Compiling rand v0.6.5\n",
      "   Compiling serde_json v1.0.140\n",
      "   Compiling ryu v1.0.20\n",
      "   Compiling unicode-width v0.2.1\n",
      "   Compiling rust_decimal v1.37.2\n",
      "   Compiling csv-core v0.1.12\n",
      "   Compiling arrayvec v0.7.6\n",
      "   Compiling unicode-width v0.1.14\n",
      "   Compiling lazy_static v1.5.0\n",
      "   Compiling number_prefix v0.4.0\n",
      "   Compiling colored v2.2.0\n",
      "   Compiling shell-words v1.1.0\n",
      "   Compiling quote v1.0.40\n",
      "   Compiling syn v2.0.103\n",
      "   Compiling terminal_size v0.4.2\n",
      "   Compiling clap_builder v4.5.40\n",
      "   Compiling num-integer v0.1.46\n",
      "   Compiling num-iter v0.1.45\n",
      "   Compiling ppv-lite86 v0.2.21\n",
      "   Compiling getrandom v0.2.16\n",
      "   Compiling rand_os v0.1.3\n",
      "   Compiling console v0.15.11\n",
      "   Compiling rand_core v0.6.4\n",
      "   Compiling rand_chacha v0.3.1\n",
      "   Compiling indicatif v0.17.4\n",
      "   Compiling rand v0.8.5\n",
      "   Compiling num v0.2.1\n",
      "   Compiling statistical v1.0.0\n",
      "   Compiling clap v4.5.40\n",
      "   Compiling clap_complete v4.5.54\n",
      "   Compiling hyperfine v1.19.0\n",
      "   Compiling serde_derive v1.0.219\n",
      "   Compiling thiserror-impl v2.0.12\n",
      "   Compiling csv v1.3.1\n",
      "    Finished `release` profile [optimized] target(s) in 25.47s\n",
      "  Installing /root/.cargo/bin/hyperfine\n",
      "   Installed package `hyperfine v1.19.0` (executable `hyperfine`)\n"
     ]
    }
   ],
   "source": [
    "%%bash\n",
    "cargo install hyperfine"
   ]
  },
  {
   "cell_type": "markdown",
   "id": "45cefa6f",
   "metadata": {},
   "source": [
    "有了以上的准备工作，我们终于可以开始我们的探索之旅了。"
   ]
  },
  {
   "cell_type": "markdown",
   "id": "9c1afa63",
   "metadata": {},
   "source": [
    "## 任务0: 测量cat的效率\n",
    "\n",
    "你要做的第一个任务十分简单。学习一下如何使用`hyperfine`，并且使用它来测试GNU coreutils中的cat输出我们生成的测试文件`test.txt`的时间。运行下面的单元格来运行测试。"
   ]
  },
  {
   "cell_type": "code",
   "execution_count": 6,
   "id": "4af9a82b",
   "metadata": {},
   "outputs": [
    {
     "name": "stderr",
     "output_type": "stream",
     "text": [
      "\u0000/e\u0001c\u0000:\u0000 \u0000�hKm0R \u0000l\u0000o\u0000c\u0000a\u0000l\u0000h\u0000o\u0000s\u0000t\u0000 \u0000�N\u0006tM�n\f�FO*g\\��P0R \u0000W\u0000S\u0000L\u0000\u00020N\u0000A\u0000T\u0000 \u0000!j\u000f_\u000bN�v \u0000W\u0000S\u0000L\u0000 \u0000 \u0000l\u0000o\u0000c\u0000a\u0000l\u0000h\u0000o\u0000s\u0000t\u0000 \u0000�N\u0006t\u00020\n",
      "\u0000"
     ]
    },
    {
     "name": "stdout",
     "output_type": "stream",
     "text": [
      "Benchmark 1: cat test.txt\n",
      "  Time (mean ± σ):     13.866 s ±  0.782 s    [User: 0.014 s, System: 0.380 s]\n",
      "  Range (min … max):   12.965 s … 15.224 s    10 runs\n",
      " \n"
     ]
    }
   ],
   "source": [
    "%%bash\n",
    "hyperfine --warmup 3 'cat test.txt'"
   ]
  },
  {
   "cell_type": "markdown",
   "id": "cd94fe5a",
   "metadata": {},
   "source": [
    "## 任务1: 写一个最朴素的cat\n",
    "\n",
    "我们现在使用`hyperfine`测量了GNU coreutils中的`cat`的运行效率，但是对于这个运行时间，我们可能并没有什么概念。现在我们将会写一个最朴素的`cat`程序来作为baseline。这个程序需要满足一下要求：\n",
    "1. 把你的源代码命名为`mycat1.c`或者`mycat1.rs`，并且可执行的二进制文件命名为`mycat1`。\n",
    "2. 你的程序接受且只接受一个命令行参数，这个参数是你要读取的文件。\n",
    "3. 你的程序直接使用`read`和`write`系统调用，每次读取并输出一个字符，不使用任何缓冲区。\n",
    "4. 使用`hpyerfine`测量`mycat1`和`cat`运行时间（`mycat1`的运行时间可能会非常长）\n",
    "5. 虽然这是一个很简单的程序，但是请仍然保持系统编程的规范。请在你的代码中进行进行所有必要的错误处理。\n",
    "\n",
    "这个任务不需要在文档中包含任何内容。"
   ]
  },
  {
   "cell_type": "code",
   "execution_count": null,
   "id": "124223b9",
   "metadata": {},
   "outputs": [
    {
     "name": "stderr",
     "output_type": "stream",
     "text": [
      "\u0000/e\u0001c\u0000:\u0000 \u0000�hKm0R \u0000l\u0000o\u0000c\u0000a\u0000l\u0000h\u0000o\u0000s\u0000t\u0000 \u0000�N\u0006tM�n\f�FO*g\\��P0R \u0000W\u0000S\u0000L\u0000\u00020N\u0000A\u0000T\u0000 \u0000!j\u000f_\u000bN�v \u0000W\u0000S\u0000L\u0000 \u0000 \u0000l\u0000o\u0000c\u0000a\u0000l\u0000h\u0000o\u0000s\u0000t\u0000 \u0000�N\u0006t\u00020\n",
      "\u0000"
     ]
    },
    {
     "name": "stdout",
     "output_type": "stream",
     "text": [
      "Benchmark 1: ./target/mycat1 test.txt\n"
     ]
    }
   ],
   "source": [
    "%%bash\n",
    "hyperfine --warmup 3 --runs 1 './target/mycat1 test.txt'"
   ]
  },
  {
   "cell_type": "markdown",
   "id": "7105038c",
   "metadata": {},
   "source": [
    "## 任务2: 带有缓冲区的cat\n",
    "\n",
    "如果你正确完成了上面的任务，你会发现，`mycat1`的性能和系统中的`cat`的性能相差甚远。但是经过了ics课程的学习，你肯定已经想到了至少一个解决方案——使用缓冲区。缓冲区可以有效减少反复进行系统调用的性能消耗。但是，我们要面临的第二个问题是：缓冲区的大小应该如何设置呢？我们接下来将一步一步地探索这个问题。\n",
    "\n",
    "我们之前肯定也已经讲过不少涉及IO缓冲区的程序了，它们的缓冲区大小都被设置为多少呢？我相信1024, 4096, 8192一定是比较常见的几个数字。经过ics的学习，我相信你们肯定能说出原因了。那么，这个任务，我们将根据这个原理优化我们的`mycat1`。你至少需要完成下面要求：\n",
    "1. 复制你上一个任务的源代码在上面做修改，并把源代码命名为`mycat2.c`/`mycat2.rs`，可执行二进制文件命名为`mycat2`。\n",
    "2. 写一个`io_blocksize`函数用于确定你的缓冲区的大小，在这个任务中，你可以将缓冲区设置成你当前系统中一个内存页的大小。（注意：你不能假设所有系统中内存页的大小都是4K，请你使用一个系统调用或者标准库中的函数来获取内存页的大小，而不要使用一个固定值。不过允许你使用一个固定值，如果获取内存页发生错误，但是这不应该是一个常见的情况）。\n",
    "3. 使用标准库提供的函数动态分配用于缓冲区的内存。\n",
    "4. 使用`hpyerfine`测量`mycat2`的运行时间\n",
    "5. 请保持系统编程的基本规范。\n",
    "\n",
    "这个任务不需要在文档中包含任何内容。"
   ]
  },
  {
   "cell_type": "code",
   "execution_count": 1,
   "id": "ac23d60f",
   "metadata": {},
   "outputs": [
    {
     "name": "stderr",
     "output_type": "stream",
     "text": [
      "\u0000/e\u0001c\u0000:\u0000 \u0000�hKm0R \u0000l\u0000o\u0000c\u0000a\u0000l\u0000h\u0000o\u0000s\u0000t\u0000 \u0000�N\u0006tM�n\f�FO*g\\��P0R \u0000W\u0000S\u0000L\u0000\u00020N\u0000A\u0000T\u0000 \u0000!j\u000f_\u000bN�v \u0000W\u0000S\u0000L\u0000 \u0000 \u0000l\u0000o\u0000c\u0000a\u0000l\u0000h\u0000o\u0000s\u0000t\u0000 \u0000�N\u0006t\u00020\n",
      "\u0000"
     ]
    },
    {
     "name": "stdout",
     "output_type": "stream",
     "text": [
      "Benchmark 1: ./target/mycat2 test.txt\n",
      "  Time (mean ± σ):     73.622 s ± 33.360 s    [User: 0.222 s, System: 2.432 s]\n",
      "  Range (min … max):   51.131 s … 164.980 s    10 runs\n",
      " \n"
     ]
    },
    {
     "name": "stderr",
     "output_type": "stream",
     "text": [
      " \n",
      "  Warning: The first benchmarking run for this command was significantly slower than the rest (164.980 s). This could be caused by (filesystem) caches that were not filled until after the first run. You are already using the '--warmup' option which helps to fill these caches before the actual benchmark. You can either try to increase the warmup count further or re-run this benchmark on a quiet system in case it was a random outlier. Alternatively, consider using the '--prepare' option to clear the caches before each timing run.\n"
     ]
    }
   ],
   "source": [
    "%%bash\n",
    "hyperfine --warmup 3 './target/mycat2 test.txt'"
   ]
  },
  {
   "cell_type": "markdown",
   "id": "c5630499",
   "metadata": {},
   "source": [
    "## 任务3: 缓冲区对齐的cat\n",
    "\n",
    "如果你正确完成了上面这个任务，你会发现，添加了缓冲区的`mycat2`性能提升十分显著。但是我们还可以进一步优化。实际上只是添加了缓冲区并且设置缓冲区的大小为内存页的整数倍并不是没有什么太多的意义，这样的设置只是为了这个一个任务做铺垫的。在这个任务中，我们将尝试将我们的缓冲区对齐到系统的内存页。至于为什么要这么做，请大家在自己的文档中分析一下。你至少需要完成以下要求：\n",
    "1. 复制你上一个任务的源代码在上面做修改，并把源代码命名为`mycat3.c`/`mycat3.rs`，可执行二进制文件命名为`mycat3`。\n",
    "2. 写两个函数`char* align_alloc(size_t size)`和`void align_free(void* ptr)`，它们的作用分别是分配一段内存，长度不小于`size`并且返回一个对齐到内存页起始的指针`ptr`，以及给出一个先前从`align_alloc`返回的指针并释放之前分配的内存。\n",
    "3. 利用这两个函数修改你的代码，缓冲区的大小仍然设置成一个内存页的大小。\n",
    "4. 使用`hpyerfine`测量`mycat3`的运行时间\n",
    "5. 请保持系统编程的基本规范。\n",
    "\n",
    "这个任务，你需要在文档中回答以下问题：\n",
    "1. 为什么将缓冲区对齐到系统的内存可能提高性能？你的实验结果支持这个猜想吗？为什么？\n",
    "2. 为什么我们直接使用`malloc`函数分配的内存不能对齐到内存页，即使我们分配的内存大小已经是内存页大小的整数倍了。\n",
    "3. 你是怎么在不知道原始的malloc返回的指针的情况下正确释放内存的？"
   ]
  },
  {
   "cell_type": "markdown",
   "id": "2ceeefe8",
   "metadata": {},
   "source": [
    "回答：\n",
    "1. 当缓冲区的起始地址精确对齐到内存页边界时，操作系统内核在进行直接内存访问操作时，可以直接使用该物理页面，无需创建额外的内存拷贝。这种对齐允许硬件设备直接读取或写入数据，避免了内核在不对齐情况下必须执行分页缝合，这种操s作会消耗额外的CPU周期和内存带宽。我的实验结果不支持这个猜想，因为两个程序都缺少O_DIRECT标志，如果缓冲区不对齐，内核在复制数据到页缓存时会进行隐式对齐，开销很小。\n",
    "2. malloc函数遵循C标准库规范，仅保证返回的指针对齐到基本数据类型，以满足常规结构体和数组的对齐要求，但并未承诺对齐到更大的系统页边界。这种设计源于malloc的核心目标是在通用场景下高效管理堆内存碎片，而非服务特定性能的优化场景。内存分配器通过维护空闲列表来管理内存块，当程序请求内存时，分配器会在空闲链表中搜索足够大的块，这些块的起始地址由先前的释放操作决定，具有随机性。即使请求大小恰好是页大小的倍数，分配器也可能从堆中任意位置返回内存块，这个位置取决于堆的当前布局和碎片化状态。\n",
    "3. 在align_alloc实现中，通过精心设计的指针存储机制解决了这个问题。分配过程首先计算比请求尺寸更大的内存块，确保原始内存块有足够的空间容纳对齐区域和分配的原始指针。当找到对齐地址后，在对齐指针前方固定位置存储原始指针，这样，当align_free时就可以向前寻找，找到原始指针，正确释放内存。"
   ]
  },
  {
   "cell_type": "code",
   "execution_count": 2,
   "id": "cc9a08fd",
   "metadata": {},
   "outputs": [
    {
     "name": "stderr",
     "output_type": "stream",
     "text": [
      "\u0000/e\u0001c\u0000:\u0000 \u0000�hKm0R \u0000l\u0000o\u0000c\u0000a\u0000l\u0000h\u0000o\u0000s\u0000t\u0000 \u0000�N\u0006tM�n\f�FO*g\\��P0R \u0000W\u0000S\u0000L\u0000\u00020N\u0000A\u0000T\u0000 \u0000!j\u000f_\u000bN�v \u0000W\u0000S\u0000L\u0000 \u0000 \u0000l\u0000o\u0000c\u0000a\u0000l\u0000h\u0000o\u0000s\u0000t\u0000 \u0000�N\u0006t\u00020\n",
      "\u0000"
     ]
    },
    {
     "name": "stdout",
     "output_type": "stream",
     "text": [
      "Benchmark 1: ./target/mycat3 test.txt\n",
      "  Time (mean ± σ):     74.979 s ± 27.764 s    [User: 0.217 s, System: 2.469 s]\n",
      "  Range (min … max):   50.248 s … 144.980 s    10 runs\n",
      " \n"
     ]
    }
   ],
   "source": [
    "%%bash\n",
    "hyperfine --warmup 3 './target/mycat3 test.txt'"
   ]
  },
  {
   "cell_type": "markdown",
   "id": "45070667",
   "metadata": {},
   "source": [
    "## 任务4: 设置缓冲区大小为文件系统块大小的整数倍的cat\n",
    "\n",
    "由于`cat`是涉及文件操作的，所以我们自然不能离开磁盘操作。我们在课内已经学到过，磁盘操作的基本单位是块。并且因为我们操作磁盘是经过了操作系统的一层抽象的，操作系统的文件系统也定义了一个操作文件的基本单位块，这个块的大小和磁盘的块的大小相关，但不总是相同。因此我们操作文件的时候实际接触到的块大小是文件系统的块大小。如果我们每次读取和写入文件的时候都按照文件系统的块大小来进行，也能提升性能。在这个任务中，你至少需要完成以下要求：\n",
    "1. 复制你上一个任务的源代码在上面做修改，并把源代码命名为`mycat4.c`/`mycat4.rs`，可执行二进制文件命名为`mycat4`。\n",
    "2. 修改你的函数`io_blocksize`，让你的缓冲区大小既考虑到内存页大小也考虑到文件系统的块大小。\n",
    "3. 使用`hyperfine`测量`mycat4`的运行时间。\n",
    "4. 保持系统编程的基本规范。\n",
    "\n",
    "> 在完成这项任务的时候你需要注意以下几点：\n",
    "> 1. 文件系统中的每个文件，块大小不总是相同的。\n",
    "> 2. 有的文件系统可能会给出虚假的块大小，这种虚假的文件块大小可能根本不是2的整数次幂。\n",
    "\n",
    "这个任务，你需要在文档中回答以下问题：\n",
    "1. 为什么在设置缓冲区大小的时候需要考虑到文件系统块的大小的问题？\n",
    "2. 对于上面提到的两个注意事项你是怎么解决的？"
   ]
  },
  {
   "cell_type": "markdown",
   "id": "bbbc485a",
   "metadata": {},
   "source": [
    "回答：\n",
    "1. 设置缓冲区时考虑文件系统块大小可以显著提升I/O效率。文件系统以固定块为单位读写数据。当用户缓冲区与块大小对齐时，可以减少内核额外的拷贝，优化预读取，降低分页错误等等\n",
    "2. 针对文件块大小差异问题，通过fstat()获取每个文件的st_blksize，为不同文件制定最优缓冲区；针对虚假块大小处理问题，首先进行有效性验证，验证块是否为2的整数次幂，当检测到非整数次幂时，通过位操作向上取整到最近的2的幂，最后再将处理后的块大小和内存页大小比较并取最大值，确保最终缓冲区尺寸既符合文件系统特性又满足内存对齐要求"
   ]
  },
  {
   "cell_type": "code",
   "execution_count": 3,
   "id": "b1c29621",
   "metadata": {},
   "outputs": [
    {
     "name": "stderr",
     "output_type": "stream",
     "text": [
      "\u0000/e\u0001c\u0000:\u0000 \u0000�hKm0R \u0000l\u0000o\u0000c\u0000a\u0000l\u0000h\u0000o\u0000s\u0000t\u0000 \u0000�N\u0006tM�n\f�FO*g\\��P0R \u0000W\u0000S\u0000L\u0000\u00020N\u0000A\u0000T\u0000 \u0000!j\u000f_\u000bN�v \u0000W\u0000S\u0000L\u0000 \u0000 \u0000l\u0000o\u0000c\u0000a\u0000l\u0000h\u0000o\u0000s\u0000t\u0000 \u0000�N\u0006t\u00020\n",
      "\u0000"
     ]
    },
    {
     "name": "stdout",
     "output_type": "stream",
     "text": [
      "Benchmark 1: ./target/mycat4 test.txt\n",
      "  Time (mean ± σ):     74.263 s ±  9.867 s    [User: 0.197 s, System: 2.586 s]\n",
      "  Range (min … max):   67.027 s … 95.247 s    10 runs\n",
      " \n"
     ]
    }
   ],
   "source": [
    "%%bash\n",
    "hyperfine --warmup 3 './target/mycat4 test.txt'"
   ]
  },
  {
   "cell_type": "markdown",
   "id": "442bbd60",
   "metadata": {},
   "source": [
    "## 任务5: 考虑系统调用开销情况下的cat\n",
    "\n",
    "如果你正确完成了上面的任务，那么现在你的`cat`已经可以综合考虑内存页大小，内存页对齐和文件系统块大小的因素来设置缓冲区大小了。但是我们会发现，我们自己的`cat`性能仍然不如我们系统中的`cat`。并且如果你尝试过再进一步增大缓冲区的大小，你的`cat`性能还能更高。这是因为我们目前设置的缓冲区大小还不足以掩盖系统调用带来的开销。那么，我们的缓冲区究竟应该设置到什么大小才够呢？其实这个问题，我们仅仅使用理论分析是无法给出答案的，因为答案受到机器的硬件条件，操作系统的涉及等多重不确定因素的影响。但是，我们可以使用实验来解答这个问题。最后，我们还需要做出假设，不考虑上一个任务的注意事项1，也就是我们假设我们文件系统的大部分文件的块大小都一致（你可以使用我们的测试文件的块大小）。因此，设我们在之前的任务中设置的缓冲区大小是buf_size，我们需要通过实验找到一个倍数A，满足以下条件：\n",
    "1. 当缓冲区大小小于A * buf_size的时候，文件的读写速度显著减小\n",
    "2. 当缓冲区大小大于A * buf_size的时候，文件的读写速度并不显著提升\n",
    "最终，我们就可以直接设置我们的`cat`中的缓冲区大小设置成buf_size的固定倍率。在这个任务中，你只少需要完成以下要求：\n",
    "1. 编写一个实验脚本，尽量排除其他因素的影响，测量只在系统调用开销的影响下，你的系统最合适的缓冲区大小。并且给出这个大小下你的系统的读写速率。\n",
    "2. 复制你上一个任务的源代码在上面做修改，并把源代码命名为`mycat5.c`/`mycat5.rs`，可执行二进制文件命名为`mycat5`。\n",
    "3. 利用上面的实验结果，修改你的函数`io_blocksize`。\n",
    "4. 使用`hyperfine`测量`mycat5`的运行时间。\n",
    "5. 保持系统编程的基本规范。\n",
    "\n",
    "> 提示：\n",
    "> 1. `dd`命令可以用于复制一个文件(也就是读取并写入)，你可以使用命令行参数设置它的缓冲区大小，并且程序终止的时候可以报告平均文件读写速度。\n",
    "> 2. Linux系统中存在`/dev`文件系统，这个目录下有很多特殊文件，其中有一些对你来说可能有用。`/dev/null`，你向这个文件写入的内容并不真正写入磁盘，并且不会对你的系统造成任何影响。`/dev/zero`，如果你尝试读取这个文件你会得到源源不断的`\\0x0`，这个文件也并不真正的从磁盘中读取。\n",
    "\n",
    "这个任务，你需要在文档中包括以下内容：\n",
    "1. 解释一下你的实验脚本是怎么设计的。你应该尝试了多种倍率，请将它们的读写速率画成图表包含在文档中。"
   ]
  },
  {
   "cell_type": "code",
   "execution_count": 18,
   "id": "9a720e79",
   "metadata": {},
   "outputs": [
    {
     "name": "stdout",
     "output_type": "stream",
     "text": [
      "Multiplier: 1x (4.0KB) - Avg Speed: 11250.21 MB/s\n",
      "Multiplier: 2x (8.0KB) - Avg Speed: 20395.40 MB/s\n",
      "Multiplier: 3x (12.0KB) - Avg Speed: 26727.76 MB/s\n",
      "Multiplier: 4x (16.0KB) - Avg Speed: 29605.89 MB/s\n",
      "Multiplier: 5x (20.0KB) - Avg Speed: 32455.86 MB/s\n",
      "Multiplier: 6x (24.0KB) - Avg Speed: 33399.00 MB/s\n",
      "Multiplier: 7x (28.0KB) - Avg Speed: 35936.26 MB/s\n",
      "Multiplier: 8x (32.0KB) - Avg Speed: 33764.74 MB/s\n",
      "Multiplier: 9x (36.0KB) - Avg Speed: 39482.30 MB/s\n",
      "Multiplier: 10x (40.0KB) - Avg Speed: 43690.75 MB/s\n",
      "Multiplier: 11x (44.0KB) - Avg Speed: 45629.97 MB/s\n",
      "Multiplier: 12x (48.0KB) - Avg Speed: 46012.91 MB/s\n",
      "Multiplier: 13x (52.0KB) - Avg Speed: 48201.34 MB/s\n",
      "Multiplier: 14x (56.0KB) - Avg Speed: 48644.76 MB/s\n",
      "Multiplier: 15x (60.0KB) - Avg Speed: 49580.84 MB/s\n",
      "Multiplier: 16x (64.0KB) - Avg Speed: 49183.80 MB/s\n",
      "Multiplier: 17x (68.0KB) - Avg Speed: 48777.02 MB/s\n",
      "Multiplier: 18x (72.0KB) - Avg Speed: 53384.52 MB/s\n",
      "Multiplier: 19x (76.0KB) - Avg Speed: 53790.70 MB/s\n",
      "Multiplier: 20x (80.0KB) - Avg Speed: 53526.29 MB/s\n",
      "Multiplier: 21x (84.0KB) - Avg Speed: 52740.23 MB/s\n",
      "Multiplier: 22x (88.0KB) - Avg Speed: 54728.34 MB/s\n",
      "Multiplier: 23x (92.0KB) - Avg Speed: 51799.97 MB/s\n",
      "Multiplier: 24x (96.0KB) - Avg Speed: 54044.10 MB/s\n",
      "Multiplier: 25x (100.0KB) - Avg Speed: 55612.47 MB/s\n",
      "Multiplier: 26x (104.0KB) - Avg Speed: 52367.94 MB/s\n",
      "Multiplier: 27x (108.0KB) - Avg Speed: 55715.15 MB/s\n",
      "Multiplier: 28x (112.0KB) - Avg Speed: 57534.26 MB/s\n",
      "Multiplier: 29x (116.0KB) - Avg Speed: 57055.44 MB/s\n",
      "Multiplier: 30x (120.0KB) - Avg Speed: 57341.63 MB/s\n",
      "Multiplier: 31x (124.0KB) - Avg Speed: 55660.05 MB/s\n",
      "Multiplier: 32x (128.0KB) - Avg Speed: 54077.80 MB/s\n",
      "\n",
      "最佳乘数: 28x (112.0KB), 最高速度: 57534.26 MB/s\n"
     ]
    },
    {
     "name": "stderr",
     "output_type": "stream",
     "text": [
      "C:\\Users\\LEGION\\AppData\\Local\\Temp\\ipykernel_21904\\2500882638.py:76: UserWarning: Glyph 32531 (\\N{CJK UNIFIED IDEOGRAPH-7F13}) missing from font(s) DejaVu Sans.\n",
      "  plt.tight_layout()\n",
      "C:\\Users\\LEGION\\AppData\\Local\\Temp\\ipykernel_21904\\2500882638.py:76: UserWarning: Glyph 20914 (\\N{CJK UNIFIED IDEOGRAPH-51B2}) missing from font(s) DejaVu Sans.\n",
      "  plt.tight_layout()\n",
      "C:\\Users\\LEGION\\AppData\\Local\\Temp\\ipykernel_21904\\2500882638.py:76: UserWarning: Glyph 21306 (\\N{CJK UNIFIED IDEOGRAPH-533A}) missing from font(s) DejaVu Sans.\n",
      "  plt.tight_layout()\n",
      "C:\\Users\\LEGION\\AppData\\Local\\Temp\\ipykernel_21904\\2500882638.py:76: UserWarning: Glyph 22823 (\\N{CJK UNIFIED IDEOGRAPH-5927}) missing from font(s) DejaVu Sans.\n",
      "  plt.tight_layout()\n",
      "C:\\Users\\LEGION\\AppData\\Local\\Temp\\ipykernel_21904\\2500882638.py:76: UserWarning: Glyph 23567 (\\N{CJK UNIFIED IDEOGRAPH-5C0F}) missing from font(s) DejaVu Sans.\n",
      "  plt.tight_layout()\n",
      "C:\\Users\\LEGION\\AppData\\Local\\Temp\\ipykernel_21904\\2500882638.py:76: UserWarning: Glyph 20056 (\\N{CJK UNIFIED IDEOGRAPH-4E58}) missing from font(s) DejaVu Sans.\n",
      "  plt.tight_layout()\n",
      "C:\\Users\\LEGION\\AppData\\Local\\Temp\\ipykernel_21904\\2500882638.py:76: UserWarning: Glyph 25968 (\\N{CJK UNIFIED IDEOGRAPH-6570}) missing from font(s) DejaVu Sans.\n",
      "  plt.tight_layout()\n",
      "C:\\Users\\LEGION\\AppData\\Local\\Temp\\ipykernel_21904\\2500882638.py:76: UserWarning: Glyph 22522 (\\N{CJK UNIFIED IDEOGRAPH-57FA}) missing from font(s) DejaVu Sans.\n",
      "  plt.tight_layout()\n",
      "C:\\Users\\LEGION\\AppData\\Local\\Temp\\ipykernel_21904\\2500882638.py:76: UserWarning: Glyph 30784 (\\N{CJK UNIFIED IDEOGRAPH-7840}) missing from font(s) DejaVu Sans.\n",
      "  plt.tight_layout()\n",
      "C:\\Users\\LEGION\\AppData\\Local\\Temp\\ipykernel_21904\\2500882638.py:76: UserWarning: Glyph 24179 (\\N{CJK UNIFIED IDEOGRAPH-5E73}) missing from font(s) DejaVu Sans.\n",
      "  plt.tight_layout()\n",
      "C:\\Users\\LEGION\\AppData\\Local\\Temp\\ipykernel_21904\\2500882638.py:76: UserWarning: Glyph 22343 (\\N{CJK UNIFIED IDEOGRAPH-5747}) missing from font(s) DejaVu Sans.\n",
      "  plt.tight_layout()\n",
      "C:\\Users\\LEGION\\AppData\\Local\\Temp\\ipykernel_21904\\2500882638.py:76: UserWarning: Glyph 35835 (\\N{CJK UNIFIED IDEOGRAPH-8BFB}) missing from font(s) DejaVu Sans.\n",
      "  plt.tight_layout()\n",
      "C:\\Users\\LEGION\\AppData\\Local\\Temp\\ipykernel_21904\\2500882638.py:76: UserWarning: Glyph 20889 (\\N{CJK UNIFIED IDEOGRAPH-5199}) missing from font(s) DejaVu Sans.\n",
      "  plt.tight_layout()\n",
      "C:\\Users\\LEGION\\AppData\\Local\\Temp\\ipykernel_21904\\2500882638.py:76: UserWarning: Glyph 36895 (\\N{CJK UNIFIED IDEOGRAPH-901F}) missing from font(s) DejaVu Sans.\n",
      "  plt.tight_layout()\n",
      "C:\\Users\\LEGION\\AppData\\Local\\Temp\\ipykernel_21904\\2500882638.py:76: UserWarning: Glyph 24230 (\\N{CJK UNIFIED IDEOGRAPH-5EA6}) missing from font(s) DejaVu Sans.\n",
      "  plt.tight_layout()\n",
      "C:\\Users\\LEGION\\AppData\\Local\\Temp\\ipykernel_21904\\2500882638.py:76: UserWarning: Glyph 19982 (\\N{CJK UNIFIED IDEOGRAPH-4E0E}) missing from font(s) DejaVu Sans.\n",
      "  plt.tight_layout()\n",
      "C:\\Users\\LEGION\\AppData\\Local\\Temp\\ipykernel_21904\\2500882638.py:76: UserWarning: Glyph 20851 (\\N{CJK UNIFIED IDEOGRAPH-5173}) missing from font(s) DejaVu Sans.\n",
      "  plt.tight_layout()\n",
      "C:\\Users\\LEGION\\AppData\\Local\\Temp\\ipykernel_21904\\2500882638.py:76: UserWarning: Glyph 31995 (\\N{CJK UNIFIED IDEOGRAPH-7CFB}) missing from font(s) DejaVu Sans.\n",
      "  plt.tight_layout()\n"
     ]
    },
    {
     "data": {
      "image/png": "[encoded data removed]",
      "text/plain": [
       "<Figure size 1200x600 with 1 Axes>"
      ]
     },
     "metadata": {},
     "output_type": "display_data"
    }
   ],
   "source": [
    "# 请在这里填入你的测试脚本\n",
    "#!/usr/bin/env python3\n",
    "\"\"\"\n",
    "文件读写性能测试脚本\n",
    "通过测量不同缓冲区大小下从/dev/zero读取数据并写入/dev/null的性能\n",
    "确定最佳缓冲区大小\n",
    "\"\"\"\n",
    "\n",
    "import os\n",
    "import time\n",
    "import numpy as np\n",
    "import matplotlib.pyplot as plt\n",
    "\n",
    "# 实验参数\n",
    "base_size = 4096  # 4KB基础大小\n",
    "multipliers = np.arange(1, 33)  # 1x 到 32x\n",
    "total_bytes = 1024 * 1024 * 1024  # 1GB\n",
    "repeats = 5\n",
    "\n",
    "# 存储结果\n",
    "results = []\n",
    "\n",
    "# 替代测试方法：使用Python直接读写\n",
    "for mult in multipliers:\n",
    "    block_size = base_size * mult\n",
    "    count = total_bytes // block_size\n",
    "    \n",
    "    speeds = []\n",
    "    for i in range(repeats):\n",
    "        try:\n",
    "            # 使用Python模拟dd行为\n",
    "            start_time = time.time()\n",
    "            \n",
    "            # 模拟读取/dev/zero\n",
    "            bytes_read = 0\n",
    "            while bytes_read < total_bytes:\n",
    "                # 生成零字节块\n",
    "                chunk = b'\\x00' * min(block_size, total_bytes - bytes_read)\n",
    "                bytes_read += len(chunk)\n",
    "                \n",
    "                # 模拟写入/dev/null - 实际不执行任何操作\n",
    "            \n",
    "            elapsed = time.time() - start_time\n",
    "            speed = total_bytes / elapsed / 1000000  # MB/s\n",
    "            speeds.append(speed)\n",
    "            \n",
    "        except Exception as e:\n",
    "            print(f\"测试出错: {e}\")\n",
    "            speeds.append(0)\n",
    "    \n",
    "    avg_speed = np.mean(speeds)\n",
    "    results.append(avg_speed)\n",
    "    print(f\"Multiplier: {mult}x ({block_size/1024:.1f}KB) - \"\n",
    "          f\"Avg Speed: {avg_speed:.2f} MB/s\")\n",
    "\n",
    "# 找到最佳乘数\n",
    "if any(results):\n",
    "    max_speed = max(results)\n",
    "    best_multiplier = multipliers[np.argmax(results)]\n",
    "    print(f\"\\n最佳乘数: {best_multiplier}x ({base_size*best_multiplier/1024:.1f}KB), \"\n",
    "          f\"最高速度: {max_speed:.2f} MB/s\")\n",
    "else:\n",
    "    print(\"\\n错误: 所有测试均未获得有效速度数据\")\n",
    "    best_multiplier = 8  # 默认值\n",
    "\n",
    "# 可视化结果\n",
    "plt.figure(figsize=(12, 6))\n",
    "plt.plot(multipliers, results, 'o-', color='#1f77b4')\n",
    "if any(results):\n",
    "    plt.axvline(x=best_multiplier, color='r', linestyle='--', alpha=0.7)\n",
    "plt.title('缓冲区大小与读写速度关系', fontsize=14)\n",
    "plt.xlabel('缓冲区大小乘数 (基础大小=4KB)', fontsize=12)\n",
    "plt.ylabel('平均读写速度 (MB/s)', fontsize=12)\n",
    "plt.grid(True, linestyle='--', alpha=0.7)\n",
    "plt.xticks(np.arange(0, 33, 2))\n",
    "plt.tight_layout()\n",
    "plt.show()"
   ]
  },
  {
   "cell_type": "code",
   "execution_count": 19,
   "id": "fefb5fdb",
   "metadata": {},
   "outputs": [
    {
     "name": "stderr",
     "output_type": "stream",
     "text": [
      "\u0000/e\u0001c\u0000:\u0000 \u0000�hKm0R \u0000l\u0000o\u0000c\u0000a\u0000l\u0000h\u0000o\u0000s\u0000t\u0000 \u0000�N\u0006tM�n\f�FO*g\\��P0R \u0000W\u0000S\u0000L\u0000\u00020N\u0000A\u0000T\u0000 \u0000!j\u000f_\u000bN�v \u0000W\u0000S\u0000L\u0000 \u0000 \u0000l\u0000o\u0000c\u0000a\u0000l\u0000h\u0000o\u0000s\u0000t\u0000 \u0000�N\u0006t\u00020\n",
      "\u0000"
     ]
    },
    {
     "name": "stdout",
     "output_type": "stream",
     "text": [
      "Benchmark 1: ./target/mycat5 test.txt\n",
      "  Time (mean ± σ):      9.667 s ±  0.544 s    [User: 0.006 s, System: 0.361 s]\n",
      "  Range (min … max):    8.718 s … 10.651 s    10 runs\n",
      " \n"
     ]
    }
   ],
   "source": [
    "%%bash\n",
    "hyperfine --warmup 3 './target/mycat5 test.txt'"
   ]
  },
  {
   "cell_type": "markdown",
   "id": "54bef4af",
   "metadata": {},
   "source": [
    "## 任务6: 使用了系统调用`fdadvice`的cat\n",
    "\n",
    "虽然几乎我们的这个lab都在讨论设置缓冲区大小的问题，但是实际上我们的系统中的`cat`还在其他很多方面做了不少优化。这些优化在多数时候和缓冲区相比都不起决定性作用，但是我们也可以从中学习到不少有趣的技巧。这里我们就只尝试其中一个，使用系统调用`fadvise`。这个系统调用可以提示文件系统我们将会以什么样的模式来读写文件，这样操作系统可以设置合适的readahead窗口为文件的读写做准备。在这个任务中，你需要完成以下要求：\n",
    "1. 复制你上一个任务的源代码在上面做修改，并把源代码命名为`mycat6.c`/`mycat6.rs`，可执行二进制文件命名为`mycat6`。\n",
    "2. 在你的代码中使用`fadvise`进行优化。\n",
    "3. 使用`hyperfine`测量`mycat6`的运行时间。\n",
    "4. 保持系统编程的基本规范。\n",
    "\n",
    "这个任务，你需要在文档中回答以下问题：\n",
    "1. 你是如何设置`fadvise`的参数的？\n",
    "2. 对于顺序读写的情况，文件系统可以如何调整readahead？对于随机读写的情况呢？"
   ]
  },
  {
   "cell_type": "markdown",
   "id": "5bcd7f67",
   "metadata": {},
   "source": [
    "回答：\n",
    "1. 文件打开时：posix_fadvise(fd, 0, 0, POSIX_FADV_SEQUENTIAL | POSIX_FADV_WILLNEED)。POSIX_FADV_SEQUENTIAL提醒操作系统该文件将顺序访问。POSIX_FADV_WILLNEED提示操作系统将预读文件内容。偏移量0长度0表示建议应用于整个文件。文件读取时：posix_fadvise(fd, 0, bytes_read, POSIX_FADV_DONTNEED)。POSIX_FADV_DONTNEED提示操作系统不需要保留已读取的数据。偏移量0和长度bytes_read表示当前读取的数据块。文件关闭时：posix_fadvise(fd, 0, 0, POSIX_FADV_NOREUSE)。POSIX_FADV_NOREUSE提示操作系统不再需要。\n",
    "2. 在顺序读写情况下，当应用程序使用POSIX_FADV_SEQUENTIAL参数时，文件系统会实施一系列优化策略来提升性能。首先，它会显著增加预读窗口的大小，通常将默认预读窗口扩大2到4倍。其次，操作系统会启动主动预取机制，在应用程序还在处理当前数据块时，后台就已经开始异步读取后续数据块，实现数据处理与数据获取的流水线操作。同时，文件系统基于顺序访问的预期，会更积极地缓存文件开头部分的数据，优先保证文件起始区域的快速访问。对于机械硬盘这类有寻道延迟的设备，文件系统还会智能合并顺序读取请求，通过减少磁头移动次数来最大化吞吐量，将多次小规模读取合并为更少的大规模连续读取操作。\n",
    "而在随机读写场景下，当使用POSIX_FADV_RANDOM参数时，文件系统会采取完全不同的优化方向。最核心的调整是大幅缩减预读窗口，甚至可能完全禁用预读功能。这背后的逻辑是避免无效的数据预取，因为随机访问模式下后续数据块被使用的概率很低。相应地，操作系统会采用延迟读取策略，严格按应用程序的明确请求来获取数据，不再预取额外内容。在缓存管理方面，文件系统会优先缓存文件的元数据而非文件内容本身，并更积极地回收已缓存的文件内容。对于非连续访问模式，文件系统会优化其I/O调度算法，准备好处理分散的读写请求；特别是对SSD设备，它会优化命令队列的排序逻辑，通过减少访问延迟而非最大化吞吐量来提升随机访问性能。"
   ]
  },
  {
   "cell_type": "code",
   "execution_count": 20,
   "id": "3aad1e29",
   "metadata": {},
   "outputs": [
    {
     "name": "stderr",
     "output_type": "stream",
     "text": [
      "\u0000/e\u0001c\u0000:\u0000 \u0000�hKm0R \u0000l\u0000o\u0000c\u0000a\u0000l\u0000h\u0000o\u0000s\u0000t\u0000 \u0000�N\u0006tM�n\f�FO*g\\��P0R \u0000W\u0000S\u0000L\u0000\u00020N\u0000A\u0000T\u0000 \u0000!j\u000f_\u000bN�v \u0000W\u0000S\u0000L\u0000 \u0000 \u0000l\u0000o\u0000c\u0000a\u0000l\u0000h\u0000o\u0000s\u0000t\u0000 \u0000�N\u0006t\u00020\n",
      "\u0000"
     ]
    },
    {
     "name": "stdout",
     "output_type": "stream",
     "text": [
      "Benchmark 1: ./target/mycat6 test.txt\n",
      "  Time (mean ± σ):      8.778 s ±  0.472 s    [User: 0.004 s, System: 0.363 s]\n",
      "  Range (min … max):    8.040 s …  9.359 s    10 runs\n",
      " \n"
     ]
    }
   ],
   "source": [
    "%%bash\n",
    "hyperfine --warmup 3 './target/mycat6 test.txt'"
   ]
  },
  {
   "cell_type": "markdown",
   "id": "2c605486",
   "metadata": {},
   "source": [
    "## 任务7: 总结\n",
    "\n",
    "经过了上面的所有任务，我们已经成功探索我们系统中最常用的工具`cat`所使用的各种优化。我相信你对涉及系统IO的编程也有了更深刻的理解。现在请你整理汇总上面每个任务你所写的`mycatx`以及系统的`cat`的测量数据，使用一个柱状图来展示。并且请你分析一下你得到的结果：它们符合你的预期吗？为什么？这个结果给你带来了什么启示？\n",
    "\n",
    "这个任务，你需要在文档中包含以下内容：\n",
    "1. 你的全部实验结果的柱状图。\n",
    "2. 你对上述实验结果的分析。"
   ]
  },
  {
   "cell_type": "markdown",
   "id": "0b909b44",
   "metadata": {},
   "source": [
    "实验结果：\n",
    "1. 最基础的无缓冲的实现耗时最长，运行2个小时还没有结束，添加缓冲区后，速度得到显著提升\n",
    "2. 经过完整优化后的mycat5和mycat6性能接近系统cat性能\n",
    "\n",
    "分析：\n",
    "1. 使用缓冲区能够有效减少开销，减少时延\n",
    "2. 在考虑系统调用开销后，性能得到进一步提升，说明系统调用也是I/O时延的一个很重要的部分\n",
    "3. mycat3和mycat4的性能未得到显著提升，可能与文件读取方式，以及现代操作系统的优化有关系\n",
    "4. 其他的优化，例如使用fadvise预取数据，获得的性能提升就小很多了"
   ]
  },
  {
   "cell_type": "code",
   "execution_count": 24,
   "id": "4e293a45",
   "metadata": {},
   "outputs": [
    {
     "data": {
      "image/png": "[encoded data removed]",
      "text/plain": [
       "<Figure size 1200x600 with 1 Axes>"
      ]
     },
     "metadata": {},
     "output_type": "display_data"
    }
   ],
   "source": [
    "# 这里填入你用于画图的python代码\n",
    "import matplotlib.pyplot as plt\n",
    "import numpy as np\n",
    "\n",
    "versions = ['cat', 'mycat2', 'mycat3', 'mycat4', 'mycat5', 'mycat6']\n",
    "times = [13.866, 73.622, 74.979, 74.263, 9.667, 8.778]\n",
    "errors = [0.782, 33.360, 27.764, 9.867, 0.544, 0.472]\n",
    "\n",
    "plt.figure(figsize=(12, 6))\n",
    "bars = plt.bar(versions, times, yerr=errors, \n",
    "               capsize=5, color='skyblue', edgecolor='black')\n",
    "\n",
    "for bar in bars:\n",
    "    height = bar.get_height()\n",
    "    plt.text(bar.get_x() + bar.get_width()/2., height,\n",
    "             f'{height:.2f}s', ha='center', va='bottom')\n",
    "    \n",
    "plt.title('Cat efficiency (2GB)', fontsize=14)\n",
    "plt.xlabel('version', fontsize=12)\n",
    "plt.ylabel('time(s)', fontsize=12)\n",
    "plt.grid(axis='y', linestyle='--', alpha=0.7)\n",
    "\n",
    "plt.tight_layout()\n",
    "plt.show()"
   ]
  }
 ],
 "metadata": {
  "kernelspec": {
   "display_name": ".venv",
   "language": "python",
   "name": "python3"
  },
  "language_info": {
   "codemirror_mode": {
    "name": "ipython",
    "version": 3
   },
   "file_extension": ".py",
   "mimetype": "text/x-python",
   "name": "python",
   "nbconvert_exporter": "python",
   "pygments_lexer": "ipython3",
   "version": "3.13.3"
  }
 },
 "nbformat": 4,
 "nbformat_minor": 5
}
